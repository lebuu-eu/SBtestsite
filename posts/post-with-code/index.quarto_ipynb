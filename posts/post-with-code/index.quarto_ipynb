{
  "cells": [
    {
      "cell_type": "markdown",
      "metadata": {},
      "source": [
        "---\n",
        "title: \"Post With Code\"\n",
        "author: \"Harlow Malloc\"\n",
        "date: \"2025-01-28\"\n",
        "categories: [news, code, analysis]\n",
        "image: \"image.jpg\"\n",
        "---\n",
        "\n",
        "\n",
        "\n",
        "\n",
        "This is a post with executable code.\n"
      ],
      "id": "3dd241ea"
    },
    {
      "cell_type": "code",
      "metadata": {},
      "source": [
        "#| echo: false\n",
        "\n",
        "import matplotlib.pyplot as plt\n",
        "plt.plot([1,2,3,4])\n",
        "plt.show()"
      ],
      "id": "430f746c",
      "execution_count": null,
      "outputs": []
    }
  ],
  "metadata": {
    "kernelspec": {
      "name": "python3",
      "language": "python",
      "display_name": "Python 3 (ipykernel)",
      "path": "/Users/lebuu_eu/opt/anaconda3/envs/quarto/share/jupyter/kernels/python3"
    }
  },
  "nbformat": 4,
  "nbformat_minor": 5
}